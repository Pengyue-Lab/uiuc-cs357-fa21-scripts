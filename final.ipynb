{
 "cells": [
  {
   "cell_type": "code",
   "execution_count": 2,
   "id": "4355c84b",
   "metadata": {
    "id": "4355c84b"
   },
   "outputs": [],
   "source": [
    "import numpy as np\n",
    "import numpy.linalg as la\n",
    "import numdifftools as nd"
   ]
  },
  {
   "cell_type": "markdown",
   "id": "948f4479",
   "metadata": {
    "id": "948f4479"
   },
   "source": [
    "# Error and big-O"
   ]
  },
  {
   "cell_type": "markdown",
   "id": "71508329",
   "metadata": {
    "id": "71508329"
   },
   "source": [
    "## abs err "
   ]
  },
  {
   "cell_type": "code",
   "execution_count": null,
   "id": "796955eb",
   "metadata": {
    "id": "796955eb",
    "outputId": "7193d3b6-ef42-40bf-9ddb-16ae26579b30"
   },
   "outputs": [
    {
     "data": {
      "text/plain": [
       "150"
      ]
     },
     "execution_count": 2,
     "metadata": {},
     "output_type": "execute_result"
    }
   ],
   "source": [
    "x = 3000\n",
    "x0 = 5 * 570\n",
    "abs_err = np.abs(x - x0)\n",
    "abs_err"
   ]
  },
  {
   "cell_type": "markdown",
   "id": "e172b4b7",
   "metadata": {
    "id": "e172b4b7"
   },
   "source": [
    "## true value from relative "
   ]
  },
  {
   "cell_type": "code",
   "execution_count": null,
   "id": "af8e0d88",
   "metadata": {
    "id": "af8e0d88",
    "outputId": "11b86457-1033-4dfa-bbed-be467a425a48"
   },
   "outputs": [
    {
     "data": {
      "text/plain": [
       "733.3333333333334"
      ]
     },
     "execution_count": 3,
     "metadata": {},
     "output_type": "execute_result"
    }
   ],
   "source": [
    "rel = 0.1\n",
    "x0 = 660\n",
    "x = x0/(1 - rel)\n",
    "x"
   ]
  },
  {
   "cell_type": "markdown",
   "id": "6b68b797",
   "metadata": {
    "id": "6b68b797"
   },
   "source": [
    "## relative error bound "
   ]
  },
  {
   "cell_type": "code",
   "execution_count": null,
   "id": "42a80aad",
   "metadata": {
    "id": "42a80aad",
    "outputId": "be46694a-b964-4d3e-edcf-c0a79cce9724"
   },
   "outputs": [
    {
     "data": {
      "text/plain": [
       "6"
      ]
     },
     "execution_count": 4,
     "metadata": {},
     "output_type": "execute_result"
    }
   ],
   "source": [
    "n = 7\n",
    "k = n - 1\n",
    "k"
   ]
  },
  {
   "cell_type": "markdown",
   "id": "8434e2eb",
   "metadata": {
    "id": "8434e2eb"
   },
   "source": [
    "## power "
   ]
  },
  {
   "cell_type": "code",
   "execution_count": null,
   "id": "bad9056f",
   "metadata": {
    "id": "bad9056f",
    "outputId": "4cb6bed8-3adb-47d0-977f-e35cfe264a10"
   },
   "outputs": [
    {
     "data": {
      "text/plain": [
       "4.0"
      ]
     },
     "execution_count": 8,
     "metadata": {},
     "output_type": "execute_result"
    }
   ],
   "source": [
    "before = 10\n",
    "after = 10**5\n",
    "zhi = 16\n",
    "zhi / np.log10(after/before)"
   ]
  },
  {
   "cell_type": "markdown",
   "id": "252719d0",
   "metadata": {
    "id": "252719d0"
   },
   "source": [
    "## up and down "
   ]
  },
  {
   "cell_type": "code",
   "execution_count": null,
   "id": "e0e1a98b",
   "metadata": {
    "id": "e0e1a98b"
   },
   "outputs": [],
   "source": [
    "d_base = 193\n",
    "d_c = 38\n",
    "d_up = d_base + d_c\n",
    "d_down = d_base - d_c\n",
    "s_base = 65\n",
    "s_c = 2\n",
    "s_up = s_base + s_c\n",
    "s_down = s_base - s_c"
   ]
  },
  {
   "cell_type": "code",
   "execution_count": null,
   "id": "e6b22dc9",
   "metadata": {
    "id": "e6b22dc9",
    "outputId": "a7209c8a-45f1-490c-98e7-6d31e41723cb"
   },
   "outputs": [
    {
     "data": {
      "text/plain": [
       "array([ 28.86567164,  42.        , -39.19402985, -30.38095238])"
      ]
     },
     "execution_count": 13,
     "metadata": {},
     "output_type": "execute_result"
    }
   ],
   "source": [
    "np.array([d_up/s_up, d_up/s_down, d_down/s_up, d_down/s_down])*60 - 178"
   ]
  },
  {
   "cell_type": "markdown",
   "id": "eaf759cc",
   "metadata": {
    "id": "eaf759cc"
   },
   "source": [
    "## rel up down "
   ]
  },
  {
   "cell_type": "code",
   "execution_count": null,
   "id": "3b4a20fe",
   "metadata": {
    "id": "3b4a20fe",
    "outputId": "6f3afa88-32f1-4410-ac86-37d796eea4b8"
   },
   "outputs": [
    {
     "data": {
      "text/plain": [
       "array([ 0.0815,  0.0185, -0.0215, -0.0785])"
      ]
     },
     "execution_count": 14,
     "metadata": {},
     "output_type": "execute_result"
    }
   ],
   "source": [
    "i_up = 1.05\n",
    "i_down = 0.95\n",
    "r_up = 20*1.03\n",
    "r_down = 20*0.97\n",
    "(np.array([i_up * r_up, i_up * r_down, i_down * r_up, i_down * r_down]) - 20)/20"
   ]
  },
  {
   "cell_type": "markdown",
   "id": "c51110b2",
   "metadata": {
    "id": "c51110b2"
   },
   "source": [
    "# Floating point & IEEE"
   ]
  },
  {
   "cell_type": "markdown",
   "id": "6a5fa98a",
   "metadata": {
    "id": "6a5fa98a"
   },
   "source": [
    "## exact representation"
   ]
  },
  {
   "cell_type": "code",
   "execution_count": null,
   "id": "48fa38f2",
   "metadata": {
    "id": "48fa38f2",
    "outputId": "dd7744cc-a252-4447-c952-a59b977eea13"
   },
   "outputs": [
    {
     "data": {
      "text/plain": [
       "16"
      ]
     },
     "execution_count": 15,
     "metadata": {},
     "output_type": "execute_result"
    }
   ],
   "source": [
    "p = 4\n",
    "2**p"
   ]
  },
  {
   "cell_type": "markdown",
   "id": "8038ac26",
   "metadata": {
    "id": "8038ac26"
   },
   "source": [
    "## biggest or smallest positive normal or subnormal"
   ]
  },
  {
   "cell_type": "markdown",
   "id": "b4f70cea",
   "metadata": {
    "id": "b4f70cea"
   },
   "source": [
    "### normal"
   ]
  },
  {
   "cell_type": "code",
   "execution_count": 2,
   "id": "d6b4db74",
   "metadata": {
    "id": "d6b4db74"
   },
   "outputs": [],
   "source": [
    "l,u = -8, 9\n",
    "p = 5"
   ]
  },
  {
   "cell_type": "code",
   "execution_count": 3,
   "id": "00c56146",
   "metadata": {
    "id": "00c56146",
    "outputId": "a0a94c97-1c3a-484c-881b-40b02dcbab3c"
   },
   "outputs": [
    {
     "data": {
      "text/plain": [
       "0.00390625"
      ]
     },
     "execution_count": 3,
     "metadata": {},
     "output_type": "execute_result"
    }
   ],
   "source": [
    "2**l # smallest"
   ]
  },
  {
   "cell_type": "code",
   "execution_count": null,
   "id": "9e8fab1f",
   "metadata": {
    "id": "9e8fab1f",
    "outputId": "de47c34f-910f-4592-8e4b-b5ce82b346c0"
   },
   "outputs": [
    {
     "data": {
      "text/plain": [
       "3.3895313892515355e+38"
      ]
     },
     "execution_count": 7,
     "metadata": {},
     "output_type": "execute_result"
    }
   ],
   "source": [
    "2**(u+1)*(1-2**(-p)) # biggest"
   ]
  },
  {
   "cell_type": "markdown",
   "id": "a314c8c8",
   "metadata": {
    "id": "a314c8c8"
   },
   "source": [
    "### subnormal"
   ]
  },
  {
   "cell_type": "code",
   "execution_count": null,
   "id": "1ab13e29",
   "metadata": {
    "id": "1ab13e29"
   },
   "outputs": [],
   "source": [
    "m = -6"
   ]
  },
  {
   "cell_type": "code",
   "execution_count": null,
   "id": "311385c9",
   "metadata": {
    "id": "311385c9",
    "outputId": "fd152b0d-0860-4c73-f823-ec2b16bbacac"
   },
   "outputs": [
    {
     "data": {
      "text/plain": [
       "0.001953125"
      ]
     },
     "execution_count": 35,
     "metadata": {},
     "output_type": "execute_result"
    }
   ],
   "source": [
    "epsilon*2**m # smallest"
   ]
  },
  {
   "cell_type": "markdown",
   "id": "80a358bf",
   "metadata": {
    "id": "80a358bf"
   },
   "source": [
    "## machine epsilon"
   ]
  },
  {
   "cell_type": "code",
   "execution_count": 45,
   "id": "e14ae907",
   "metadata": {
    "id": "e14ae907",
    "outputId": "1c845841-f61b-4611-b391-2e819ded0d0d"
   },
   "outputs": [
    {
     "data": {
      "text/plain": [
       "0.03125"
      ]
     },
     "execution_count": 45,
     "metadata": {},
     "output_type": "execute_result"
    }
   ],
   "source": [
    "n = 5 # fraction part\n",
    "epsilon = 2**(-n)\n",
    "epsilon"
   ]
  },
  {
   "cell_type": "markdown",
   "id": "7bcc5bd1",
   "metadata": {
    "id": "7bcc5bd1"
   },
   "source": [
    "## softmax "
   ]
  },
  {
   "cell_type": "code",
   "execution_count": null,
   "id": "4855b424",
   "metadata": {
    "id": "4855b424",
    "outputId": "2fb879ce-3d78-4f8c-8a9f-13ad348e8102"
   },
   "outputs": [
    {
     "data": {
      "text/plain": [
       "88.53038289905838"
      ]
     },
     "execution_count": 40,
     "metadata": {},
     "output_type": "execute_result"
    }
   ],
   "source": [
    "np.log(np.finfo(np.float32).max - np.exp(86.04381) - np.exp(84.14729) - np.exp(86.38088))"
   ]
  },
  {
   "cell_type": "markdown",
   "id": "45117baf",
   "metadata": {
    "id": "45117baf"
   },
   "source": [
    "# rounding"
   ]
  },
  {
   "cell_type": "code",
   "execution_count": 19,
   "id": "16732861",
   "metadata": {
    "id": "16732861",
    "outputId": "4f966415-f063-4e33-883d-1036e3b59d8f"
   },
   "outputs": [
    {
     "data": {
      "text/plain": [
       "0.015625"
      ]
     },
     "execution_count": 19,
     "metadata": {},
     "output_type": "execute_result"
    }
   ],
   "source": [
    "n = 4 # fraction part\n",
    "eps = 2**(-n)\n",
    "abs_err_down = 0.046875\n",
    "abs_err_up = eps - abs_err_down\n",
    "abs_err_up"
   ]
  },
  {
   "cell_type": "markdown",
   "id": "084b5530",
   "metadata": {
    "id": "084b5530"
   },
   "source": [
    "# Eigenvalues"
   ]
  },
  {
   "cell_type": "markdown",
   "id": "25f4fd99",
   "metadata": {
    "id": "25f4fd99"
   },
   "source": [
    "## eigenvalues of matrix polynomials "
   ]
  },
  {
   "cell_type": "code",
   "execution_count": 46,
   "id": "2d5592ba",
   "metadata": {
    "id": "2d5592ba",
    "outputId": "664a88dd-7dba-4c2b-9640-d0fb54781759"
   },
   "outputs": [
    {
     "data": {
      "text/plain": [
       "3.2"
      ]
     },
     "execution_count": 46,
     "metadata": {},
     "output_type": "execute_result"
    }
   ],
   "source": [
    "evb = 5\n",
    "eva = 1/evb + 3\n",
    "eva"
   ]
  },
  {
   "cell_type": "code",
   "execution_count": 4,
   "id": "43080121",
   "metadata": {
    "id": "43080121",
    "outputId": "de72c305-c1a6-4e8a-c66a-157f934b9fcc"
   },
   "outputs": [
    {
     "name": "stdout",
     "output_type": "stream",
     "text": [
      "[ 17. -14.  11.  -5.  -2.]\n"
     ]
    },
    {
     "data": {
      "text/plain": [
       "array([ 21., -10.,  15.,  -1.,   2.])"
      ]
     },
     "execution_count": 4,
     "metadata": {},
     "output_type": "execute_result"
    }
   ],
   "source": [
    "A = np.array([[17, -8, 11, -3, -4],\n",
    "              [0, -14, -8, -7, -1],\n",
    "              [0, 0, 11, 8, -16],\n",
    "              [0, 0, 0, -5, -13],\n",
    "              [0, 0, 0, 0, -2],\n",
    "             ])\n",
    "eigval = la.eig(A)[0]\n",
    "print(eigval)\n",
    "eigval + 4"
   ]
  },
  {
   "cell_type": "code",
   "execution_count": 9,
   "id": "3f7f28ce",
   "metadata": {
    "id": "3f7f28ce",
    "outputId": "8639bab7-4a03-43f5-931e-ba44987c21fd"
   },
   "outputs": [
    {
     "data": {
      "text/plain": [
       "array([0.33333333, 1.        , 0.6       ])"
      ]
     },
     "execution_count": 9,
     "metadata": {},
     "output_type": "execute_result"
    }
   ],
   "source": [
    "v = np.array([5, 15, 9])\n",
    "v / la.norm(v, ord = np.inf)"
   ]
  },
  {
   "cell_type": "markdown",
   "id": "df5ef458",
   "metadata": {
    "id": "df5ef458"
   },
   "source": [
    "## normalized iteration"
   ]
  },
  {
   "cell_type": "code",
   "execution_count": null,
   "id": "5c00d9ae",
   "metadata": {
    "id": "5c00d9ae"
   },
   "outputs": [],
   "source": [
    "for i in range(n):\n",
    "    A = As[i]\n",
    "    xk = x0/np.linalg.norm(x0,2)\n",
    "    err = 1\n",
    "    count = 0\n",
    "    while(err >= 1e-12):\n",
    "        last = np.copy(xk)\n",
    "        yk = A @ xk\n",
    "        xk = yk/la.norm(yk,2)\n",
    "        err = la.norm(xk - last, 2)\n",
    "        count += 1\n",
    "    cnt.append(count)\n",
    "    eigenvec1.append(xk)\n",
    "    eigenval1.append(xk.T@A@xk/(xk.T@xk))"
   ]
  },
  {
   "cell_type": "markdown",
   "id": "cf7b2613",
   "metadata": {
    "id": "cf7b2613"
   },
   "source": [
    "## inverse iteration"
   ]
  },
  {
   "cell_type": "code",
   "execution_count": null,
   "id": "b77b3dc2",
   "metadata": {
    "id": "b77b3dc2"
   },
   "outputs": [],
   "source": [
    "for i in range(n):\n",
    "    A = As[i]\n",
    "    xk = x0/np.linalg.norm(x0,2)\n",
    "    err = 1\n",
    "    P, L, U = la.lu(A)\n",
    "    while(err >= 1e-12):\n",
    "        last = np.copy(xk)\n",
    "        y = la.solve_triangular(L, np.dot(P.T, xk), lower = True)\n",
    "        xk = la.solve_triangular(U, y)\n",
    "        xk = xk/la.norm(xk, 2)\n",
    "        err = la.norm(xk - last, 2)\n",
    "    eigenvec2.append(xk)\n",
    "    eigenval2.append(xk.T@A@xk/(xk.T@xk))"
   ]
  },
  {
   "cell_type": "markdown",
   "id": "8c3940e7",
   "metadata": {
    "id": "8c3940e7"
   },
   "source": [
    "## shifted inverse iteration"
   ]
  },
  {
   "cell_type": "code",
   "execution_count": null,
   "id": "a3d128f2",
   "metadata": {
    "id": "a3d128f2"
   },
   "outputs": [],
   "source": [
    "for i in range(n):\n",
    "    A = As[i] - np.identity(2)\n",
    "    xk = x0/np.linalg.norm(x0,2)\n",
    "    P, L, U = la.lu(A)\n",
    "    for j in range(500):\n",
    "        y = la.solve_triangular(L, np.dot(P.T, xk), lower = True)\n",
    "        xk = la.solve_triangular(U, y)\n",
    "        xk = xk/np.linalg.norm(xk, 2)\n",
    "    shifted_eigvec.append(xk)\n",
    "    shifted_eigval.append(xk.T@As[i]@xk/(xk.T@xk))"
   ]
  },
  {
   "cell_type": "markdown",
   "id": "af465453",
   "metadata": {
    "id": "af465453"
   },
   "source": [
    "# sparse"
   ]
  },
  {
   "cell_type": "code",
   "execution_count": 48,
   "id": "2b1aeeb2",
   "metadata": {
    "id": "2b1aeeb2"
   },
   "outputs": [],
   "source": [
    "from scipy.sparse import coo_matrix,csr_matrix"
   ]
  },
  {
   "cell_type": "markdown",
   "id": "3fda8c2d",
   "metadata": {},
   "source": [
    "## coo construction"
   ]
  },
  {
   "cell_type": "code",
   "execution_count": 49,
   "id": "91116863",
   "metadata": {
    "id": "91116863",
    "outputId": "f41c0714-22bb-4285-f357-35a9482f7fa8",
    "scrolled": true
   },
   "outputs": [
    {
     "data": {
      "text/plain": [
       "array([[1.2, 0. , 1. , 0. ],\n",
       "       [0.9, 0. , 0. , 0. ],\n",
       "       [0. , 0. , 0. , 0.4],\n",
       "       [0. , 0.8, 0. , 0. ]])"
      ]
     },
     "execution_count": 49,
     "metadata": {},
     "output_type": "execute_result"
    }
   ],
   "source": [
    "data  = np.array([1.20, 1.00, 0.90, 0.40, 0.80])\n",
    "row = np.array([0, 0, 1, 2, 3])\n",
    "col = np.array([0, 2, 0, 3, 1])\n",
    "coo = coo_matrix((data, (row, col)), shape=(4, 4)).toarray()\n",
    "coo"
   ]
  },
  {
   "cell_type": "markdown",
   "id": "5611e291",
   "metadata": {
    "id": "5611e291"
   },
   "source": [
    "## csr construction"
   ]
  },
  {
   "cell_type": "code",
   "execution_count": 26,
   "id": "fb5c8c0e",
   "metadata": {
    "id": "fb5c8c0e",
    "outputId": "0a833a88-a7dd-4c26-f33e-b2889ed14f88"
   },
   "outputs": [
    {
     "data": {
      "text/plain": [
       "array([[0. , 0.4, 0.4, 0. ],\n",
       "       [0.4, 0.9, 0. , 0.4],\n",
       "       [0.7, 0. , 0. , 0.2],\n",
       "       [0. , 0. , 0. , 0. ]])"
      ]
     },
     "execution_count": 26,
     "metadata": {},
     "output_type": "execute_result"
    }
   ],
   "source": [
    "indptr = np.array([0, 2, 5, 7, 7])\n",
    "indices = np.array([1, 2, 0, 1, 3, 0, 3])\n",
    "data = np.array([0.40, 0.40, 0.40, 0.90, 0.40, 0.70, 0.20])\n",
    "csr_matrix((data, indices, indptr), shape=(4, 4)).toarray()"
   ]
  },
  {
   "cell_type": "markdown",
   "id": "e4e868b5",
   "metadata": {},
   "source": [
    "## CSR to dense"
   ]
  },
  {
   "cell_type": "code",
   "execution_count": null,
   "id": "e6838bf7",
   "metadata": {},
   "outputs": [],
   "source": [
    "def CSR_to_DNS(data, col, rowptr, shape):\n",
    "    A = np.zeros(shape)\n",
    "    counter = 0\n",
    "    row = 0\n",
    "    for i in range(len(data)):\n",
    "        while counter >= rowptr[row+1]:\n",
    "            row += 1\n",
    "        A[row][col[i]] = data[i]\n",
    "        counter += 1\n",
    "    return A"
   ]
  },
  {
   "cell_type": "markdown",
   "id": "01e19e64",
   "metadata": {},
   "source": [
    "## dense to csr"
   ]
  },
  {
   "cell_type": "code",
   "execution_count": null,
   "id": "9ef40292",
   "metadata": {},
   "outputs": [],
   "source": [
    "def DNS_to_CSR(A):\n",
    "    data = []\n",
    "    col = []\n",
    "    rowptr = [0]\n",
    "    shape = A.shape\n",
    "    counter = 0\n",
    "    for i in range(shape[0]):\n",
    "        for j in range(shape[1]):\n",
    "            element = A[i][j]\n",
    "            if element != 0:\n",
    "                counter += 1\n",
    "                data.append(element)\n",
    "                col.append(j)\n",
    "        rowptr.append(counter)\n",
    "    return data, col, rowptr, shape"
   ]
  },
  {
   "cell_type": "markdown",
   "id": "9a679a58",
   "metadata": {},
   "source": [
    "## dense to coo"
   ]
  },
  {
   "cell_type": "code",
   "execution_count": null,
   "id": "7cbcd48b",
   "metadata": {},
   "outputs": [],
   "source": [
    "def DNS_to_COO(A):\n",
    "    data = []\n",
    "    row = []\n",
    "    col = []\n",
    "    shape = A.shape\n",
    "    for i in range(shape[0]):\n",
    "        for j in range(shape[1]):\n",
    "            element = A[i][j]\n",
    "            if element != 0:\n",
    "                data.append(element)\n",
    "                row.append(i)\n",
    "                col.append(j)\n",
    "    return data, col, row, shape"
   ]
  },
  {
   "cell_type": "markdown",
   "id": "9284d4eb",
   "metadata": {},
   "source": [
    "## coo to dense"
   ]
  },
  {
   "cell_type": "code",
   "execution_count": null,
   "id": "8b72e823",
   "metadata": {},
   "outputs": [],
   "source": [
    "def COO_to_DNS(data, col, row, shape):\n",
    "    A = np.zeros(shape)\n",
    "    for i in range(len(data)):\n",
    "        A[row[i]][col[i]] = data[i]\n",
    "    return A"
   ]
  },
  {
   "cell_type": "markdown",
   "id": "cfc11b86",
   "metadata": {
    "id": "cfc11b86"
   },
   "source": [
    "## condition accuracy"
   ]
  },
  {
   "cell_type": "code",
   "execution_count": null,
   "id": "c59bf12a",
   "metadata": {
    "id": "c59bf12a",
    "outputId": "4516b4da-a943-4d5d-f8f8-6837f3fa5012"
   },
   "outputs": [
    {
     "data": {
      "text/plain": [
       "-1"
      ]
     },
     "execution_count": 7,
     "metadata": {},
     "output_type": "execute_result"
    }
   ],
   "source": [
    "s_t = -4 # solution\n",
    "t = 3 # cond\n",
    "s = s_t + t # A, b\n",
    "s"
   ]
  },
  {
   "cell_type": "code",
   "execution_count": 18,
   "id": "cc9debc8",
   "metadata": {},
   "outputs": [
    {
     "data": {
      "text/plain": [
       "-6"
      ]
     },
     "execution_count": 18,
     "metadata": {},
     "output_type": "execute_result"
    }
   ],
   "source": [
    "#s_t = -4 # solution\n",
    "t = 3 # cond\n",
    "s = -3 # A, b\n",
    "s - t"
   ]
  },
  {
   "cell_type": "markdown",
   "id": "5f5a60a2",
   "metadata": {
    "id": "5f5a60a2"
   },
   "source": [
    "# Monte Carlo"
   ]
  },
  {
   "cell_type": "markdown",
   "id": "1bb28305",
   "metadata": {},
   "source": [
    "## clay"
   ]
  },
  {
   "cell_type": "code",
   "execution_count": null,
   "id": "a635b24e",
   "metadata": {
    "id": "a635b24e"
   },
   "outputs": [],
   "source": [
    "import numpy as np\n",
    "import random\n",
    "\n",
    "n = 200000\n",
    "x_min = -5\n",
    "x_max = 5\n",
    "y_min = -5\n",
    "y_max = 5\n",
    "z_min = 0\n",
    "z_max = 2\n",
    "count = 0\n",
    "for i in range(n):\n",
    "    x = random.uniform(x_min, x_max)\n",
    "    y = random.uniform(y_min, y_max)\n",
    "    z = random.uniform(z_min, z_max)\n",
    "    fun = f(x, y)\n",
    "    if z < fun and (x**2+y**2) < 25 and z > 0:\n",
    "        count += 1\n",
    "volume = (z_max - z_min) * (x_max - x_min) * (y_max - y_min) * (count / n)"
   ]
  },
  {
   "cell_type": "markdown",
   "id": "5ca3a5dc",
   "metadata": {},
   "source": [
    "## volume between"
   ]
  },
  {
   "cell_type": "code",
   "execution_count": null,
   "id": "6a9aef2c",
   "metadata": {},
   "outputs": [],
   "source": [
    "import numpy as np\n",
    "import random\n",
    "\n",
    "n = 200000\n",
    "x_min = -3\n",
    "x_max = 3\n",
    "y_min = -3\n",
    "y_max = 3\n",
    "z_min = 0\n",
    "z_max = 2\n",
    "count = 0\n",
    "for i in range(n):\n",
    "    x = random.uniform(x_min, x_max)\n",
    "    y = random.uniform(y_min, y_max)\n",
    "    z = random.uniform(z_min, z_max)\n",
    "    if z >= top(x, y) and z <= bottom(x, y):\n",
    "        count += 1\n",
    "volume = (z_max - z_min) * (x_max - x_min) * (y_max - y_min) * (count / n)"
   ]
  },
  {
   "cell_type": "markdown",
   "id": "1f1ce696",
   "metadata": {},
   "source": [
    "# Linear system"
   ]
  },
  {
   "cell_type": "markdown",
   "id": "e5171a9b",
   "metadata": {},
   "source": [
    "## forward"
   ]
  },
  {
   "cell_type": "markdown",
   "id": "33ae648a",
   "metadata": {},
   "source": [
    "o(n^2)"
   ]
  },
  {
   "cell_type": "code",
   "execution_count": null,
   "id": "0117bc27",
   "metadata": {},
   "outputs": [],
   "source": [
    "import numpy as np\n",
    "def forward_sub(L, b):\n",
    "    \"\"\"x = forward_sub(L, b) is the solution to L x = b\n",
    "       L must be a lower-triangular matrix\n",
    "       b must be a vector of the same leading dimension as L\n",
    "    \"\"\"\n",
    "    n = L.shape[0]\n",
    "    x = np.zeros(n)\n",
    "    for i in range(n):\n",
    "        tmp = b[i]\n",
    "        for j in range(i):\n",
    "            tmp -= L[i,j] * x[j]\n",
    "        x[i] = tmp / L[i,i]\n",
    "    return x\n"
   ]
  },
  {
   "cell_type": "markdown",
   "id": "b0dfe736",
   "metadata": {},
   "source": [
    "## backward"
   ]
  },
  {
   "cell_type": "markdown",
   "id": "3078dc42",
   "metadata": {},
   "source": [
    "o(n^2)"
   ]
  },
  {
   "cell_type": "code",
   "execution_count": null,
   "id": "c365aebe",
   "metadata": {},
   "outputs": [],
   "source": [
    "import numpy as np\n",
    "def back_sub(U, b):\n",
    "    \"\"\"x = back_sub(U, b) is the solution to U x = b\n",
    "       U must be an upper-triangular matrix\n",
    "       b must be a vector of the same leading dimension as U\n",
    "    \"\"\"\n",
    "    n = U.shape[0]\n",
    "    x = np.zeros(n)\n",
    "    for i in range(n-1, -1, -1):\n",
    "        tmp = b[i]\n",
    "        for j in range(i+1, n):\n",
    "            tmp -= U[i,j] * x[j]\n",
    "        x[i] = tmp / U[i,i]\n",
    "    return x"
   ]
  },
  {
   "cell_type": "markdown",
   "id": "dbf764a4",
   "metadata": {},
   "source": [
    "## solve lu"
   ]
  },
  {
   "cell_type": "markdown",
   "id": "91d68094",
   "metadata": {},
   "source": [
    "o(n^2)"
   ]
  },
  {
   "cell_type": "code",
   "execution_count": null,
   "id": "ef0153e5",
   "metadata": {},
   "outputs": [],
   "source": [
    "import numpy as np\n",
    "def lu_solve(L, U, b):\n",
    "    \"\"\"x = lu_solve(L, U, b) is the solution to L U x = b\n",
    "       L must be a lower-triangular matrix\n",
    "       U must be an upper-triangular matrix of the same size as L\n",
    "       b must be a vector of the same leading dimension as L\n",
    "    \"\"\"\n",
    "    y = forward_sub(L, b)\n",
    "    x = back_sub(U, y)\n",
    "    return x\n"
   ]
  },
  {
   "cell_type": "markdown",
   "id": "63659000",
   "metadata": {},
   "source": [
    "## find lu"
   ]
  },
  {
   "cell_type": "markdown",
   "id": "57cefa93",
   "metadata": {},
   "source": [
    "o(n^3)"
   ]
  },
  {
   "cell_type": "code",
   "execution_count": null,
   "id": "ff18efe1",
   "metadata": {},
   "outputs": [],
   "source": [
    "import numpy as np\n",
    "def lu_decomp(A):\n",
    "    \"\"\"(L, U) = lu_decomp(A) is the LU decomposition A = L U\n",
    "       A is any matrix\n",
    "       L will be a lower-triangular matrix with 1 on the diagonal, the same shape as A\n",
    "       U will be an upper-triangular matrix, the same shape as A\n",
    "    \"\"\"\n",
    "    n = A.shape[0]\n",
    "    if n == 1:\n",
    "        L = np.array([[1]])\n",
    "        U = A.copy()\n",
    "        return (L, U)\n",
    "\n",
    "    A11 = A[0,0]\n",
    "    A12 = A[0,1:]\n",
    "    A21 = A[1:,0]\n",
    "    A22 = A[1:,1:]\n",
    "\n",
    "    L11 = 1\n",
    "    U11 = A11\n",
    "\n",
    "    L12 = np.zeros(n-1)\n",
    "    U12 = A12.copy()\n",
    "\n",
    "    L21 = A21.copy() / U11\n",
    "    U21 = np.zeros(n-1)\n",
    "\n",
    "    S22 = A22 - np.outer(L21, U12)\n",
    "    (L22, U22) = lu_decomp(S22)\n",
    "\n",
    "    L = np.block([[L11, L12], [L21, L22]])\n",
    "    U = np.block([[U11, U12], [U21, U22]])\n",
    "    return (L, U)"
   ]
  },
  {
   "cell_type": "markdown",
   "id": "d75c33e6",
   "metadata": {},
   "source": [
    "## solve by lup"
   ]
  },
  {
   "cell_type": "code",
   "execution_count": null,
   "id": "ddb81b50",
   "metadata": {},
   "outputs": [],
   "source": [
    "import numpy as np\n",
    "def lup_solve(L, U, P, b):\n",
    "    \"\"\"x = lup_solve(L, U, P, b) is the solution to L U x = P b\n",
    "       L must be a lower-triangular matrix\n",
    "       U must be an upper-triangular matrix of the same shape as L\n",
    "       P must be a permutation matrix of the same shape as L\n",
    "       b must be a vector of the same leading dimension as L\n",
    "    \"\"\"\n",
    "    z = np.dot(P, b)\n",
    "    x = lu_solve(L, U, z)\n",
    "    return x\n",
    "The number of operations for the LUP solve algorithm is \n",
    "O\n",
    "(\n",
    "n\n",
    "2\n",
    ")\n",
    " as \n",
    "n\n",
    "→\n",
    "∞\n",
    ".\n",
    "\n"
   ]
  },
  {
   "cell_type": "markdown",
   "id": "9b9a764f",
   "metadata": {},
   "source": [
    "## find lup"
   ]
  },
  {
   "cell_type": "code",
   "execution_count": null,
   "id": "9e6d8eec",
   "metadata": {},
   "outputs": [],
   "source": [
    "import numpy as np\n",
    "def lup_decomp(A):\n",
    "    \"\"\"(L, U, P) = lup_decomp(A) is the LUP decomposition P A = L U\n",
    "       A is any matrix\n",
    "       L will be a lower-triangular matrix with 1 on the diagonal, the same shape as A\n",
    "       U will be an upper-triangular matrix, the same shape as A\n",
    "       U will be a permutation matrix, the same shape as A\n",
    "    \"\"\"\n",
    "    n = A.shape[0]\n",
    "    if n == 1:\n",
    "        L = np.array([[1]])\n",
    "        U = A.copy()\n",
    "        P = np.array([[1]])\n",
    "        return (L, U, P)\n",
    "\n",
    "    i = np.argmax(A[:,0])\n",
    "    A_bar = np.vstack([A[i,:], A[:i,:], A[(i+1):,:]])\n",
    "\n",
    "    A_bar11 = A_bar[0,0]\n",
    "    A_bar12 = A_bar[0,1:]\n",
    "    A_bar21 = A_bar[1:,0]\n",
    "    A_bar22 = A_bar[1:,1:]\n",
    "\n",
    "    S22 = A_bar22 - np.dot(A_bar21, A_bar12) / A_bar11\n",
    "\n",
    "    (L22, U22, P22) = lup_decomp(S22)\n",
    "\n",
    "    L11 = 1\n",
    "    U11 = A_bar11\n",
    "\n",
    "    L12 = np.zeros(n-1)\n",
    "    U12 = A_bar12.copy()\n",
    "\n",
    "    L21 = np.dot(P22, A_bar21) / A_bar11\n",
    "    U21 = np.zeros(n-1)\n",
    "\n",
    "    L = np.block([[L11, L12], [L21, L22]])\n",
    "    U = np.block([[U11, U12], [U21, U22]])\n",
    "    P = np.block([\n",
    "        [np.zeros((1, i-1)), 1,                  np.zeros((1, n-i))],\n",
    "        [P22[:,:(i-1)],      np.zeros((n-1, 1)), P22[:,i:]]\n",
    "    ])\n",
    "    return (L, U, P)"
   ]
  },
  {
   "cell_type": "markdown",
   "id": "ee832538",
   "metadata": {
    "id": "ee832538"
   },
   "source": [
    "## similarity"
   ]
  },
  {
   "cell_type": "markdown",
   "id": "e41c9df7",
   "metadata": {},
   "source": [
    "## find converged vector"
   ]
  },
  {
   "cell_type": "code",
   "execution_count": null,
   "id": "7adc5a39",
   "metadata": {
    "id": "7adc5a39",
    "outputId": "aca73e5a-d604-4766-f755-7bf0cb923f91"
   },
   "outputs": [
    {
     "data": {
      "text/plain": [
       "(array([9., 8.]),\n",
       " array([[1.        , 0.70710678],\n",
       "        [0.        , 0.70710678]]))"
      ]
     },
     "execution_count": 41,
     "metadata": {},
     "output_type": "execute_result"
    }
   ],
   "source": [
    "A = np.array([[9, -1], [0, 8]])\n",
    "X = la.eig(A)[1]\n",
    "X/la.norm(X, axis=0, ord=np.inf)"
   ]
  },
  {
   "cell_type": "markdown",
   "id": "9ae29bc3",
   "metadata": {},
   "source": [
    "## compute D"
   ]
  },
  {
   "cell_type": "code",
   "execution_count": null,
   "id": "6d9da2cf",
   "metadata": {
    "id": "6d9da2cf",
    "outputId": "8ab53ea1-37f7-454f-948e-4c25ef19fcd0"
   },
   "outputs": [
    {
     "data": {
      "text/plain": [
       "array([[9., 0.],\n",
       "       [0., 8.]])"
      ]
     },
     "execution_count": 36,
     "metadata": {},
     "output_type": "execute_result"
    }
   ],
   "source": [
    "la.inv(X)@A@X"
   ]
  },
  {
   "cell_type": "markdown",
   "id": "466f802e",
   "metadata": {},
   "source": [
    "# pagerank"
   ]
  },
  {
   "cell_type": "markdown",
   "id": "c42a5d9a",
   "metadata": {},
   "source": [
    "## normalize"
   ]
  },
  {
   "cell_type": "code",
   "execution_count": null,
   "id": "86b259eb",
   "metadata": {},
   "outputs": [],
   "source": [
    "M = np.array([x/la.norm(x,1) for x in A.T]).T"
   ]
  },
  {
   "cell_type": "code",
   "execution_count": null,
   "id": "bb855de9",
   "metadata": {},
   "outputs": [],
   "source": [
    "T = np.array([c / la.norm(c, 1) for c in A.T]).T*0.2\n",
    "for i in range(A.shape[0]):\n",
    "    T[i][i] = 0.8\n",
    "x0 = np.zeros(A.shape[0])\n",
    "x0[2] = 1\n",
    "\n",
    "last = T@x0\n",
    "new = T@last\n",
    "while(not np.array_equal(new, last)):\n",
    "    last = new\n",
    "    new = T@last\n",
    "p = new[4]"
   ]
  },
  {
   "cell_type": "code",
   "execution_count": null,
   "id": "c1a639d0",
   "metadata": {},
   "outputs": [],
   "source": [
    "A = A.T\n",
    "M = np.array([c / la.norm(c, 1) for c in A.T]).T\n",
    "\n",
    "x0 = np.zeros(8)\n",
    "x0[2] = 1\n",
    "\n",
    "last = M@x0\n",
    "new = M@last\n",
    "while(not np.array_equal(new, last)):\n",
    "    last = new\n",
    "    new = M@last\n",
    "prob = new[0]"
   ]
  },
  {
   "cell_type": "code",
   "execution_count": null,
   "id": "8568bab0",
   "metadata": {},
   "outputs": [],
   "source": [
    "C = np.array([\n",
    "    [0, 0, 1, 1, 0],\n",
    "    [1, 0, 0, 0, 1],\n",
    "    [0, 1, 0, 1, 1],\n",
    "    [1, 1, 1, 0, 0],\n",
    "    [1, 0, 0, 0, 0],\n",
    "])\n",
    "\n",
    "C = np.array([c / la.norm(c, 1) for c in C.T]).T\n",
    "\n",
    "x0 = [1, 0, 0, 0, 0]\n",
    "last = C@x0\n",
    "new = C@last\n",
    "\n",
    "while(not np.array_equal(last, new)):\n",
    "    last = new\n",
    "    new = C@last\n",
    "    \n",
    "p = new[3]"
   ]
  },
  {
   "cell_type": "markdown",
   "id": "6c70b0d3",
   "metadata": {
    "id": "6c70b0d3"
   },
   "source": [
    "# finite difference"
   ]
  },
  {
   "cell_type": "code",
   "execution_count": 43,
   "id": "ba827a96",
   "metadata": {
    "id": "ba827a96"
   },
   "outputs": [],
   "source": [
    "h = 0.1\n",
    "x = np.array([1.0, 1.0, 1.0])\n",
    "def f(t):\n",
    "    x, y, z = t\n",
    "    return x*y*z+x+1"
   ]
  },
  {
   "cell_type": "code",
   "execution_count": 21,
   "id": "0f66529b",
   "metadata": {
    "id": "0f66529b",
    "outputId": "577bf544-efd2-4898-a27c-7bc9176da081"
   },
   "outputs": [
    {
     "name": "stdout",
     "output_type": "stream",
     "text": [
      "[1. 1. 1.]\n",
      "0.1\n",
      "1.1\n",
      "2.0000000000000018\n",
      "[1. 1. 1.]\n",
      "0.1\n",
      "1.1\n",
      "1.0000000000000009\n",
      "[1. 1. 1.]\n",
      "0.1\n",
      "1.1\n",
      "1.0000000000000009\n"
     ]
    },
    {
     "data": {
      "text/plain": [
       "array([2., 1., 1.])"
      ]
     },
     "execution_count": 21,
     "metadata": {},
     "output_type": "execute_result"
    }
   ],
   "source": [
    "# forward nd\n",
    "approx = np.zeros_like(x)\n",
    "for i in range(x.shape[0]):\n",
    "    xfd = x.copy()\n",
    "    print(xfd)\n",
    "    xfd[i] += h\n",
    "    print(h)\n",
    "    print(xfd[i])\n",
    "    approx[i] = (f(xfd) - f(x)) / h\n",
    "    print(approx[i])\n",
    "approx"
   ]
  },
  {
   "cell_type": "code",
   "execution_count": null,
   "id": "91d5bfeb",
   "metadata": {
    "id": "91d5bfeb"
   },
   "outputs": [],
   "source": [
    "# forward 1d Oh 1 eval\n",
    "appro = (f(x + h) - f(x)) / h\n",
    "appro"
   ]
  },
  {
   "cell_type": "code",
   "execution_count": 44,
   "id": "03eba2e1",
   "metadata": {
    "id": "03eba2e1",
    "outputId": "4782d4e5-a23d-4220-96cd-0cecdef46611"
   },
   "outputs": [
    {
     "data": {
      "text/plain": [
       "array([2., 1., 1.])"
      ]
     },
     "execution_count": 44,
     "metadata": {},
     "output_type": "execute_result"
    }
   ],
   "source": [
    "# forward nd\n",
    "approx = np.zeros_like(x)\n",
    "for i in range(x.shape[0]):\n",
    "    xfd = x.copy()\n",
    "    xfd[i] += h\n",
    "    approx[i] = (f(xfd) - f(x)) / h\n",
    "approx"
   ]
  },
  {
   "cell_type": "code",
   "execution_count": null,
   "id": "7fce6b55",
   "metadata": {
    "id": "7fce6b55",
    "outputId": "d645bce2-9d1a-4731-8a85-a1e418f06e85"
   },
   "outputs": [
    {
     "data": {
      "text/plain": [
       "7.8051"
      ]
     },
     "execution_count": 23,
     "metadata": {},
     "output_type": "execute_result"
    }
   ],
   "source": [
    "# backward 1d Oh 1 eval\n",
    "appro = (f(x) - f(x - h)) / h\n",
    "appro"
   ]
  },
  {
   "cell_type": "code",
   "execution_count": null,
   "id": "a15609d5",
   "metadata": {
    "id": "a15609d5",
    "outputId": "86934bc5-2f03-4899-8fb5-3e6f471aae8d"
   },
   "outputs": [
    {
     "data": {
      "text/plain": [
       "array([2.9, 1. , 4.8])"
      ]
     },
     "execution_count": 26,
     "metadata": {},
     "output_type": "execute_result"
    }
   ],
   "source": [
    "# backward nd\n",
    "approx = np.zeros_like(x)\n",
    "for i in range(x.shape[0]):\n",
    "    xfd = x.copy()\n",
    "    xfd[i] -= h\n",
    "    approx[i] = (f(x) - f(xfd)) / h\n",
    "approx"
   ]
  },
  {
   "cell_type": "code",
   "execution_count": null,
   "id": "68dac912",
   "metadata": {
    "id": "68dac912",
    "outputId": "1ff25a2d-e9d9-4e1b-a345-09fa57ba20e1"
   },
   "outputs": [
    {
     "data": {
      "text/plain": [
       "array([1., 0., 0.])"
      ]
     },
     "execution_count": 10,
     "metadata": {},
     "output_type": "execute_result"
    }
   ],
   "source": [
    "x = np.array([1, 1, 1], dtype = float)\n",
    "h = 0.1\n",
    "def f(inp):\n",
    "    x, y, z = inp\n",
    "    return x + 2\n",
    "approx = np.zeros_like(x)\n",
    "for i in range(x.shape[0]):\n",
    "    xfd1 = x.copy()\n",
    "    xfd2 = x.copy()\n",
    "    xfd1[i] += h\n",
    "    xfd2[i] -= h\n",
    "    approx[i] = (f(xfd1) - f(xfd2)) / (2*h)\n",
    "approx"
   ]
  },
  {
   "cell_type": "code",
   "execution_count": 37,
   "id": "0a10c266",
   "metadata": {
    "id": "0a10c266",
    "outputId": "32945bc4-8201-4c17-94fb-f6fc20087ec2"
   },
   "outputs": [
    {
     "data": {
      "text/plain": [
       "1.2227060047378822"
      ]
     },
     "execution_count": 37,
     "metadata": {},
     "output_type": "execute_result"
    }
   ],
   "source": [
    "# central 1d Oh^2 2 eval\n",
    "appro = (f(t + h) - f(t - h)) / (2 * h)\n",
    "appro"
   ]
  },
  {
   "cell_type": "code",
   "execution_count": null,
   "id": "381cd0b6",
   "metadata": {
    "id": "381cd0b6"
   },
   "outputs": [],
   "source": [
    "# central nd\n",
    "approx = np.zeros_like(x)\n",
    "for i in range(x.shape[0]):\n",
    "    xfd1 = x.copy()\n",
    "    xfd2 = x.copy()\n",
    "    xfd1[i] += h\n",
    "    xfd2[i] -= h\n",
    "    approx[i] = (f(xfd1) - f(xfd2)) / (2*h)"
   ]
  },
  {
   "cell_type": "markdown",
   "id": "2ca5feb0",
   "metadata": {
    "id": "2ca5feb0"
   },
   "source": [
    "# Nonlinear"
   ]
  },
  {
   "cell_type": "markdown",
   "id": "cc504723",
   "metadata": {
    "id": "cc504723"
   },
   "source": [
    "## jacobian"
   ]
  },
  {
   "cell_type": "code",
   "execution_count": null,
   "id": "78307ebc",
   "metadata": {
    "id": "78307ebc",
    "outputId": "0147d0ff-6f35-4d45-fef0-23b4ca37b7b5"
   },
   "outputs": [
    {
     "data": {
      "text/plain": [
       "array([[1., 0.],\n",
       "       [8., 1.]])"
      ]
     },
     "execution_count": 15,
     "metadata": {},
     "output_type": "execute_result"
    }
   ],
   "source": [
    "def f(inp):\n",
    "    x, y = inp\n",
    "    return np.array([\n",
    "        x+5,\n",
    "        4*x**2+y-5\n",
    "    ])\n",
    "x0=[1, -1]\n",
    "j = nd.Jacobian(f)(x0)\n",
    "j"
   ]
  },
  {
   "cell_type": "code",
   "execution_count": null,
   "id": "4e55003e",
   "metadata": {
    "id": "4e55003e",
    "outputId": "c5b091a9-3422-4301-a930-446eb59ea0e3"
   },
   "outputs": [
    {
     "data": {
      "text/plain": [
       "array([-5., 49.])"
      ]
     },
     "execution_count": 16,
     "metadata": {},
     "output_type": "execute_result"
    }
   ],
   "source": [
    "x1 = x0 - la.inv(j)@f(x0)\n",
    "x1"
   ]
  },
  {
   "cell_type": "markdown",
   "id": "4c2c80c6",
   "metadata": {
    "id": "4c2c80c6"
   },
   "source": [
    "## hessian"
   ]
  },
  {
   "cell_type": "code",
   "execution_count": 7,
   "id": "0eaedbeb",
   "metadata": {
    "id": "0eaedbeb",
    "outputId": "bfde3c3b-2eaa-4152-875d-ea5cd8a05cb1"
   },
   "outputs": [
    {
     "data": {
      "text/plain": [
       "array([[6.00000000e+01, 3.45710903e-14],\n",
       "       [3.45710903e-14, 4.32000000e+02]])"
      ]
     },
     "execution_count": 7,
     "metadata": {},
     "output_type": "execute_result"
    }
   ],
   "source": [
    "def f(inp):\n",
    "    x, y = inp\n",
    "    return 5*x**3+4*y**4\n",
    "x0 = [2, 3]\n",
    "h = nd.Hessian(f)(x0)\n",
    "h"
   ]
  },
  {
   "cell_type": "markdown",
   "id": "72a8f399",
   "metadata": {
    "id": "72a8f399"
   },
   "source": [
    "## Newton Method"
   ]
  },
  {
   "cell_type": "markdown",
   "id": "d6fb5956",
   "metadata": {
    "id": "d6fb5956"
   },
   "source": [
    "2 evals; typically; quadratic convergence depends on initial guess; start point; when diff too costly try secant"
   ]
  },
  {
   "cell_type": "markdown",
   "id": "e198cb30",
   "metadata": {
    "id": "e198cb30"
   },
   "source": [
    "$x_{k+1} = x_k + h = x_k - \\frac{f(x_k)}{f'(x_k)}$"
   ]
  },
  {
   "cell_type": "code",
   "execution_count": null,
   "id": "6679f57d",
   "metadata": {
    "id": "6679f57d",
    "outputId": "3df3fd28-ee6a-4c8d-c361-385e3a9fc91b"
   },
   "outputs": [
    {
     "data": {
      "text/plain": [
       "1.96666666666671"
      ]
     },
     "execution_count": 23,
     "metadata": {},
     "output_type": "execute_result"
    }
   ],
   "source": [
    "# root\n",
    "def f(x):\n",
    "    return -1 * np.exp(-1 * x**2)\n",
    "\n",
    "root = 0.3 - f(0.3) / nd.Gradient(f)(0.3)\n",
    "root"
   ]
  },
  {
   "cell_type": "code",
   "execution_count": null,
   "id": "06fdf3fa",
   "metadata": {
    "id": "06fdf3fa"
   },
   "outputs": [],
   "source": [
    "# high dimension\n",
    "def f(x1, x2):\n",
    "    return np.array([3*x1*x2+6, x1**3+x2**2+5])\n",
    "\n",
    "# A function that returns the Jacobian may be useful\n",
    "def J(x,y):\n",
    "    return np.array([[3 * x ** 2, -2 * y], [1 + 2*x*y, x**2]])\n",
    " \n",
    "x = np.copy(xi)\n",
    "res = la.norm(f(x[0], x[1]), 2)\n",
    "\n",
    "while res >= tol:\n",
    "    x = x - la.inv(J(x[0], x[1]))@f(x[0], x[1])\n",
    "    res = la.norm(f(x[0], x[1]), 2)\n",
    "    \n",
    "root = x"
   ]
  },
  {
   "cell_type": "code",
   "execution_count": 50,
   "id": "9bf60351",
   "metadata": {
    "id": "9bf60351",
    "outputId": "39e708d0-122d-44a8-ff87-03c08b850211"
   },
   "outputs": [
    {
     "data": {
      "text/plain": [
       "array([[ 6., -6.],\n",
       "       [12.,  4.]])"
      ]
     },
     "execution_count": 50,
     "metadata": {},
     "output_type": "execute_result"
    }
   ],
   "source": [
    "x0 = [-2, 2]\n",
    "def f(inp):\n",
    "    x1, x2 = inp\n",
    "    return np.array([3*x1*x2+6, x1**3+x2**2+5])\n",
    "j = nd.Jacobian(f)(x0)\n",
    "j"
   ]
  },
  {
   "cell_type": "code",
   "execution_count": 51,
   "id": "0c774d2d",
   "metadata": {
    "id": "0c774d2d",
    "outputId": "bd96ed17-b120-43ac-b1f9-65fa95708eee"
   },
   "outputs": [
    {
     "data": {
      "text/plain": [
       "array([-1.8125,  1.1875])"
      ]
     },
     "execution_count": 51,
     "metadata": {},
     "output_type": "execute_result"
    }
   ],
   "source": [
    "x1 = x0 - la.inv(j)@f(x0)\n",
    "x1"
   ]
  },
  {
   "cell_type": "code",
   "execution_count": null,
   "id": "f86f0159",
   "metadata": {
    "id": "f86f0159"
   },
   "outputs": [],
   "source": [
    "\n",
    "def f(x,y):\n",
    "    return np.array([x**3 - y**2, x+y*x**2 - 2])\n",
    "\n",
    "# A function that returns the Jacobian may be useful\n",
    "def J(x,y):\n",
    "    return np.array([[3 * x ** 2, -2 * y], [1 + 2*x*y, x**2]])\n",
    " \n",
    "x = np.copy(xi)\n",
    "res = la.norm(f(x[0], x[1]), 2)\n",
    "\n",
    "while res >= tol:\n",
    "    x = x - la.inv(J(x[0], x[1]))@f(x[0], x[1])\n",
    "    res = la.norm(f(x[0], x[1]), 2)\n",
    "    \n",
    "root = x\n",
    "\n",
    "x0 = [1, -1]\n",
    "def f(inp):\n",
    "    x, y = inp\n",
    "    return np.array([5*x**4 + 3*y**3 - 6, 4*x**2+2*y - 5])\n",
    "j = nd.Jacobian(f)(x0)\n",
    "j\n",
    "\n",
    "x1 = x0 - la.inv(j)@f(x0)\n",
    "x1"
   ]
  },
  {
   "cell_type": "markdown",
   "id": "6e492551",
   "metadata": {
    "id": "6e492551"
   },
   "source": [
    "## Bisection Method"
   ]
  },
  {
   "cell_type": "markdown",
   "id": "da233464",
   "metadata": {
    "id": "da233464"
   },
   "source": [
    "1 evaluation each iteration; linear convergence: 1/2; f is continuous and f(a) and f(b) opposite"
   ]
  },
  {
   "cell_type": "code",
   "execution_count": null,
   "id": "9d91da69",
   "metadata": {
    "id": "9d91da69"
   },
   "outputs": [],
   "source": [
    "# root\n",
    "opt.bisect(f, a = -4, b = 1, maxiter = 2, disp = False)"
   ]
  },
  {
   "cell_type": "code",
   "execution_count": null,
   "id": "ae6c41a5",
   "metadata": {
    "id": "ae6c41a5"
   },
   "outputs": [],
   "source": [
    "import numpy as np\n",
    "\n",
    "def f(x):\n",
    "    return get_temperature(x) - 375\n",
    "    \n",
    "intervals = []\n",
    "a = 0\n",
    "fa = f(a)\n",
    "b = max_wood\n",
    "fb = f(b)\n",
    "interval = (a, b)\n",
    "intervals.append(interval)\n",
    "m = (a + b) / 2\n",
    "fm = f(m)\n",
    "\n",
    "\n",
    "while (np.abs(fm) >= epsilon):\n",
    "    if (fm * fb > 0):\n",
    "        b = m\n",
    "        fb = fm\n",
    "    elif (fm * fa > 0):\n",
    "        a = m\n",
    "        fa = fm\n",
    "    interval = (a, b)\n",
    "    intervals.append(interval)\n",
    "    m = (a + b) / 2\n",
    "    fm = f(m)\n",
    "\n",
    "\n",
    "\n",
    "weight = m\n",
    "    "
   ]
  },
  {
   "cell_type": "markdown",
   "id": "febd4d57",
   "metadata": {
    "id": "febd4d57"
   },
   "source": [
    "# error prediction"
   ]
  },
  {
   "cell_type": "code",
   "execution_count": null,
   "id": "fcc2e1d6",
   "metadata": {
    "id": "fcc2e1d6",
    "outputId": "7499c871-f2cc-4d0f-9e65-53c406465fd1"
   },
   "outputs": [
    {
     "data": {
      "text/plain": [
       "5"
      ]
     },
     "execution_count": 54,
     "metadata": {},
     "output_type": "execute_result"
    }
   ],
   "source": [
    "i = 0\n",
    "err = 0.3\n",
    "rate = 0.2\n",
    "while err >= 1e-4:\n",
    "    err *= rate\n",
    "    i+=1\n",
    "i"
   ]
  },
  {
   "cell_type": "markdown",
   "id": "dbe68851",
   "metadata": {
    "id": "dbe68851"
   },
   "source": [
    "# Secant Method"
   ]
  },
  {
   "cell_type": "markdown",
   "id": "abfc3a3a",
   "metadata": {
    "id": "abfc3a3a"
   },
   "source": [
    "local convergence 1.618; 1 eval; two staring guess; superlinear"
   ]
  },
  {
   "cell_type": "markdown",
   "id": "2b6def9d",
   "metadata": {
    "id": "2b6def9d"
   },
   "source": [
    "$f'(x_k) = \\frac{f(x_k) - f(x_{k-1})}{x_k - x_{k-1}}$"
   ]
  },
  {
   "cell_type": "markdown",
   "id": "dc558743",
   "metadata": {
    "id": "dc558743"
   },
   "source": [
    "$x_{k+1} = x_k + h = x_k - \\frac{f(x_k)}{f'(x_k)}$"
   ]
  },
  {
   "cell_type": "code",
   "execution_count": null,
   "id": "25439d43",
   "metadata": {
    "id": "25439d43"
   },
   "outputs": [],
   "source": [
    "# estimation of derivative\n",
    "(f(0) - f(-2)) / 2"
   ]
  },
  {
   "cell_type": "code",
   "execution_count": null,
   "id": "f00cb319",
   "metadata": {
    "id": "f00cb319"
   },
   "outputs": [],
   "source": [
    "import numpy as np\n",
    "roots = []\n",
    "\n",
    "x1, x2 = xks\n",
    "\n",
    "def slp(f, x2, x1):\n",
    "    return (f(x2) - f(x1)) / (x2 - x1)\n",
    "   \n",
    "last2 = x2\n",
    "last1 = x1\n",
    "for i in range(5):\n",
    "    cur = last2 - f(last2)/slp(f, last2, last1)\n",
    "    roots.append(cur)\n",
    "    last1 = last2\n",
    "    last2 = cur\n",
    "    \n",
    "roots = np.array(roots)"
   ]
  },
  {
   "cell_type": "markdown",
   "id": "28314540",
   "metadata": {
    "id": "28314540"
   },
   "source": [
    "# Optimization (1d)"
   ]
  },
  {
   "cell_type": "markdown",
   "id": "a4c1d6e6",
   "metadata": {
    "id": "a4c1d6e6"
   },
   "source": [
    "1d: 1st d = 0; 2nd d > 0"
   ]
  },
  {
   "cell_type": "markdown",
   "id": "779af4a6",
   "metadata": {
    "id": "779af4a6"
   },
   "source": [
    "# Newton"
   ]
  },
  {
   "cell_type": "markdown",
   "id": "8af8ca34",
   "metadata": {
    "id": "8af8ca34"
   },
   "source": [
    "$x_{k+1} = x_k + h = x_k - \\frac{f'(x_k)}{f''(x_k)}$"
   ]
  },
  {
   "cell_type": "code",
   "execution_count": null,
   "id": "ddb7f19c",
   "metadata": {
    "id": "ddb7f19c",
    "outputId": "755a62c6-667a-4f7d-d2d8-a46da7736d61"
   },
   "outputs": [
    {
     "data": {
      "text/plain": [
       "2.2209039548022598"
      ]
     },
     "execution_count": 37,
     "metadata": {},
     "output_type": "execute_result"
    }
   ],
   "source": [
    "# root\n",
    "def f(x):\n",
    "    return 6*x**4+2*y**2\n",
    "def fp(x):\n",
    "    return 2*x * np.exp(-1 * x**2)\n",
    "root = opt.newton(f, fprime = fp, x0=0.3, maxiter = 2, disp = False)\n",
    "root"
   ]
  },
  {
   "cell_type": "code",
   "execution_count": 33,
   "id": "be534e82",
   "metadata": {
    "id": "be534e82",
    "outputId": "4b03c8e3-8c02-4954-cb36-03de45029d77"
   },
   "outputs": [
    {
     "name": "stdout",
     "output_type": "stream",
     "text": [
      "[[6.00000000e+01 3.45710903e-14]\n",
      " [3.45710903e-14 4.32000000e+02]]\n"
     ]
    },
    {
     "data": {
      "text/plain": [
       "array([[-1.00000000e+00, -1.24959900e+16],\n",
       "       [-1.73555417e+15, -1.00000000e+00]])"
      ]
     },
     "execution_count": 33,
     "metadata": {},
     "output_type": "execute_result"
    }
   ],
   "source": [
    "def f(inp):\n",
    "    x, y = inp\n",
    "    return 5*x**3+4*y**4\n",
    "x0 = np.array([2 , 3])\n",
    "print(nd.Hessian(f)(x0))\n",
    "s = - nd.Gradient(f)(x0) / nd.Hessian(f)(x0)\n",
    "s"
   ]
  },
  {
   "cell_type": "markdown",
   "id": "c5aa1dc1",
   "metadata": {
    "id": "c5aa1dc1"
   },
   "source": [
    "# Golden section"
   ]
  },
  {
   "cell_type": "markdown",
   "id": "eadb9e92",
   "metadata": {
    "id": "eadb9e92"
   },
   "source": [
    "1 eval; linearly convergent; "
   ]
  },
  {
   "cell_type": "code",
   "execution_count": null,
   "id": "0a678793",
   "metadata": {
    "id": "0a678793",
    "outputId": "044fb64d-8a83-46d4-f321-a0cb79da9b15"
   },
   "outputs": [
    {
     "name": "stdout",
     "output_type": "stream",
     "text": [
      "-1\n",
      "4.562305898749054\n"
     ]
    }
   ],
   "source": [
    "import numpy as np\n",
    "\n",
    "def f(x):\n",
    "    return (x - 3.2)**2\n",
    "a = -1\n",
    "b = 8\n",
    "\n",
    "gs = (np.sqrt(5) - 1) / 2\n",
    "m1 = a + (1 - gs) * (b - a)\n",
    "m2 = a + gs * (b - a)\n",
    "epsilon = 1e-5\n",
    "\n",
    "# Begin your modifications below here\n",
    "f1 = f(m1)\n",
    "f2 = f(m2)\n",
    "h = b-a\n",
    "\n",
    "while h >= epsilon:\n",
    "    \n",
    "    if f1 > f2:\n",
    "        a = m1\n",
    "        m1 = m2\n",
    "        f1 = f2\n",
    "        h *= gs\n",
    "        m2 = a + gs * h\n",
    "        f2 = f(m2)\n",
    "    else:\n",
    "        b = m2\n",
    "        m2 = m1\n",
    "        f2 = f1\n",
    "        h *= gs\n",
    "        m1 = a + (1 - gs) * h\n",
    "        f1 = f(m1)\n",
    "    break\n",
    "print(a)\n",
    "print(b)\n",
    "\n",
    "# End your modifications above here"
   ]
  },
  {
   "cell_type": "code",
   "execution_count": null,
   "id": "3435c0b8",
   "metadata": {
    "id": "3435c0b8",
    "outputId": "de616f45-e5c1-4abc-e88b-6bb856170a5a"
   },
   "outputs": [
    {
     "data": {
      "text/plain": [
       "5.193495504995375"
      ]
     },
     "execution_count": 11,
     "metadata": {},
     "output_type": "execute_result"
    }
   ],
   "source": [
    "gs = (np.sqrt(5) - 1) / 2\n",
    "22 * (gs**3)"
   ]
  },
  {
   "cell_type": "markdown",
   "id": "8d73cd50",
   "metadata": {
    "id": "8d73cd50"
   },
   "source": [
    "# Optimization (nd)"
   ]
  },
  {
   "cell_type": "markdown",
   "id": "e3db99f1",
   "metadata": {
    "id": "e3db99f1"
   },
   "source": [
    "nd: grad = 0; H positive definite"
   ]
  },
  {
   "cell_type": "markdown",
   "id": "da91775c",
   "metadata": {
    "id": "da91775c"
   },
   "source": [
    "# Steepest Descent"
   ]
  },
  {
   "cell_type": "markdown",
   "id": "9f969cee",
   "metadata": {
    "id": "9f969cee"
   },
   "source": [
    "linear convergent"
   ]
  },
  {
   "cell_type": "code",
   "execution_count": null,
   "id": "29876cb6",
   "metadata": {
    "id": "29876cb6"
   },
   "outputs": [],
   "source": [
    "import numpy.linalg as la\n",
    "import scipy.optimize as opt\n",
    "import numpy as np\n",
    "\n",
    "def obj_func(alpha, x, s):\n",
    "    # code for computing the objective function at (x+alpha*s)\n",
    "    return f_of_x_plus_alpha_s\n",
    "\n",
    "def gradient(inpu):\n",
    "    # code for computing gradient\n",
    "    x, y = inpu\n",
    "    return np.array([x/4 - np.cos(x)*np.cos(y / np.sqrt(2)), \n",
    "                    y/4 + 1 / np.sqrt(x) * np.sin(x)*np.sin(y / np.sqrt(2))])\n",
    "\n",
    "def steepest_descent(x_init):\n",
    "    x_new = x_init\n",
    "    x_prev = np.random.randn(x_init.shape[0])\n",
    "    while(la.norm(x_prev - x_new) > 1e-6):\n",
    "        x_prev = x_new\n",
    "        s = -gradient(x_prev)\n",
    "        alpha = opt.minimize_scalar(obj_func, args=(x_prev, s)).x\n",
    "        x_new = x_prev + alpha*s"
   ]
  },
  {
   "cell_type": "code",
   "execution_count": null,
   "id": "222f314d",
   "metadata": {
    "id": "222f314d"
   },
   "outputs": [],
   "source": [
    "def f(inp):\n",
    "    x, y = inp\n",
    "    return 2 * x**2 + 14 * x* y + 2 * y**2 + 10 * np.sin(y)**2 + 4 * np.cos(x * y)"
   ]
  },
  {
   "cell_type": "code",
   "execution_count": null,
   "id": "187e3add",
   "metadata": {
    "id": "187e3add",
    "outputId": "8ea67042-2fa2-4814-eadb-f89d93f759ce"
   },
   "outputs": [
    {
     "data": {
      "text/plain": [
       "array([-19.91486597,  71.3977569 ])"
      ]
     },
     "execution_count": 3,
     "metadata": {},
     "output_type": "execute_result"
    }
   ],
   "source": [
    "x0 = [-4, 2]\n",
    "s0 = -1 * nd.Gradient(f)(x0)\n",
    "s0"
   ]
  },
  {
   "cell_type": "code",
   "execution_count": null,
   "id": "4f569ae5",
   "metadata": {
    "id": "4f569ae5",
    "outputId": "4f92ce8f-2140-4d20-bb94-1aeadf030126"
   },
   "outputs": [
    {
     "data": {
      "text/plain": [
       "array([-4.9957433 ,  5.56988784])"
      ]
     },
     "execution_count": 4,
     "metadata": {},
     "output_type": "execute_result"
    }
   ],
   "source": [
    "x1 = x0 + 0.05 * s0\n",
    "x1"
   ]
  },
  {
   "cell_type": "markdown",
   "id": "85bb1055",
   "metadata": {
    "id": "85bb1055"
   },
   "source": [
    "# Newton's method "
   ]
  },
  {
   "cell_type": "code",
   "execution_count": null,
   "id": "2410e743",
   "metadata": {
    "id": "2410e743"
   },
   "outputs": [],
   "source": [
    "import numpy as np\n",
    "import numpy.linalg as la\n",
    "import scipy.optimize as opt\n",
    "def f(r):\n",
    "    x, y = r\n",
    "    return 3 +((x**2)/8) + ((y**2)/8) - np.sin(x)*np.cos((2**-0.5)*y)\n",
    "    \n",
    "def gradient(inpu):\n",
    "    # code for computing gradient\n",
    "    x, y = inpu\n",
    "    return np.array([x/4 - np.cos(x)*np.cos(y / np.sqrt(2)), \n",
    "                    y/4 + 1 / np.sqrt(x) * np.sin(x)*np.sin(y / np.sqrt(2))])\n",
    "                    \n",
    "def hessian(inpu):\n",
    "    x, y = inpu\n",
    "    return np.array([[np.sin(x)*np.cos(y/np.sqrt(2)) + 1/4,\n",
    "        np.cos(x)*np.sin(y / np.sqrt(2))/np.sqrt(2)], \n",
    "    [np.cos(x)*np.sin(y / np.sqrt(2))/np.sqrt(2),\n",
    "    np.sin(x)*np.cos(y/np.sqrt(2)) + 1/4]])\n",
    "    \n",
    "def newtons(x_init, stop):\n",
    "    count = 0\n",
    "    x_new = x_init\n",
    "    x_prev = np.random.randn(x_init.shape[0])\n",
    "    while(la.norm(x_prev-x_new)>stop):\n",
    "        x_prev = x_new\n",
    "        s = -la.solve(hessian(x_prev), gradient(x_prev))\n",
    "        x_new = x_prev + s\n",
    "        count += 1\n",
    "    return x_new, count\n",
    "    \n",
    "def steepest_descent(x_init, stop):\n",
    "    count = 0\n",
    "    x_new = x_init\n",
    "    x_prev = np.random.randn(x_init.shape[0])\n",
    "    while(la.norm(x_prev - x_new) > stop):\n",
    "        x_prev = x_new\n",
    "        s = -gradient(x_prev)\n",
    "        alpha = opt.minimize_scalar(f, args=(x_prev, s)).x\n",
    "        x_new = x_prev + alpha*s\n",
    "        count += 1\n",
    "    return x_new, count\n",
    "    \n",
    "r_newton, iteration_count_newton = newtons(r_init, stop)\n",
    "r_sd, iteration_count_sd = steepest_descent(r_init, stop)\n",
    "\n"
   ]
  },
  {
   "cell_type": "code",
   "execution_count": 59,
   "id": "a87f0cc7",
   "metadata": {
    "id": "a87f0cc7"
   },
   "outputs": [],
   "source": [
    "def f(inp):\n",
    "    x, y = inp\n",
    "    return 5*x**3+4*y**4"
   ]
  },
  {
   "cell_type": "code",
   "execution_count": 60,
   "id": "00d35b17",
   "metadata": {
    "id": "00d35b17",
    "outputId": "b1b92d29-7ce3-4b5a-8c2e-058c349e13b2"
   },
   "outputs": [
    {
     "data": {
      "text/plain": [
       "array([[6.00000000e+01, 3.45710903e-14],\n",
       "       [3.45710903e-14, 4.32000000e+02]])"
      ]
     },
     "execution_count": 60,
     "metadata": {},
     "output_type": "execute_result"
    }
   ],
   "source": [
    "x0 = np.array([2, 3])\n",
    "h = nd.Hessian(f)(x0)\n",
    "g = nd.Gradient(f)(x0)\n",
    "h"
   ]
  },
  {
   "cell_type": "code",
   "execution_count": 61,
   "id": "287f8a3c",
   "metadata": {
    "id": "287f8a3c",
    "outputId": "8b890cef-02f8-4bbe-e2c7-3621be250884"
   },
   "outputs": [
    {
     "data": {
      "text/plain": [
       "array([-1., -1.])"
      ]
     },
     "execution_count": 61,
     "metadata": {},
     "output_type": "execute_result"
    }
   ],
   "source": [
    "s = -la.solve(h, g)\n",
    "s"
   ]
  },
  {
   "cell_type": "markdown",
   "id": "d4ab79e7",
   "metadata": {
    "id": "d4ab79e7"
   },
   "source": [
    "# SVD"
   ]
  },
  {
   "cell_type": "code",
   "execution_count": null,
   "id": "4f1b616f",
   "metadata": {
    "id": "4f1b616f"
   },
   "outputs": [],
   "source": [
    "sig_inv = la.inv(np.diag(sigma))\n",
    "x = left_multiply_with_V(sig_inv@right_multiply_with_U(b.T).T)"
   ]
  },
  {
   "cell_type": "markdown",
   "id": "523b7393",
   "metadata": {},
   "source": [
    "## low rank approximation"
   ]
  },
  {
   "cell_type": "code",
   "execution_count": null,
   "id": "03465dce",
   "metadata": {},
   "outputs": [],
   "source": [
    "k = 2\n",
    "u[:, :k]@s[:2]@vt[:2]"
   ]
  },
  {
   "cell_type": "markdown",
   "id": "9cbfa6fa",
   "metadata": {},
   "source": [
    "## pseudoinverse"
   ]
  },
  {
   "cell_type": "code",
   "execution_count": null,
   "id": "e79d86bb",
   "metadata": {},
   "outputs": [],
   "source": [
    "m = U.shape[1]\n",
    "n = Vh.shape[0]\n",
    "sig = np.zeros((m, n))\n",
    "for i, s in enumerate(S):\n",
    "    sig[i][i] = s if s!=0 else 0\n",
    "sig_plus = sig.T\n",
    "A_plus = Vh.T@sig_plus@U.T"
   ]
  },
  {
   "cell_type": "markdown",
   "id": "8c80a7f2",
   "metadata": {},
   "source": [
    "## solve"
   ]
  },
  {
   "cell_type": "code",
   "execution_count": null,
   "id": "7297de5b",
   "metadata": {},
   "outputs": [],
   "source": [
    "m = U.shape[1]\n",
    "n = Vh.shape[0]\n",
    "sig = np.zeros((m, n))\n",
    "for i, s in enumerate(S):\n",
    "    sig[i][i] = s if s!=0 else 0\n",
    "sig_plus = sig.T\n",
    "x = Vh.T@sig_plus@U.T@b"
   ]
  },
  {
   "cell_type": "markdown",
   "id": "c725b128",
   "metadata": {},
   "source": [
    "## least square by svd"
   ]
  },
  {
   "cell_type": "code",
   "execution_count": 15,
   "id": "ce311e09",
   "metadata": {},
   "outputs": [
    {
     "data": {
      "text/plain": [
       "array([ 0.91787899, -0.38754891,  0.        ])"
      ]
     },
     "execution_count": 15,
     "metadata": {},
     "output_type": "execute_result"
    }
   ],
   "source": [
    "u = np.array([[0, 1, 0, 0],\n",
    "              [1, 0, 0, 0],\n",
    "              [0, 0, 0, 1],\n",
    "              [0, 0, 1, 0]])\n",
    "sig = np.array([[8, 0, 0],\n",
    "                [0, 13, 0],\n",
    "                [0, 0, 0],\n",
    "                [0, 0, 0]])\n",
    "vt = np.array([[1/np.sqrt(2),1/np.sqrt(2),0], \n",
    "               [1/np.sqrt(2),-1/np.sqrt(2),0], \n",
    "               [0, 0, 1]])\n",
    "b = np.array([12, 3, 12, 4])\n",
    "x = vt.T@la.pinv(sig)@u.T@b\n",
    "x"
   ]
  },
  {
   "cell_type": "markdown",
   "id": "f774cb22",
   "metadata": {
    "id": "f774cb22"
   },
   "source": [
    "## singular values for pca mean "
   ]
  },
  {
   "cell_type": "code",
   "execution_count": 39,
   "id": "b5d69277",
   "metadata": {
    "id": "b5d69277"
   },
   "outputs": [],
   "source": [
    "import numpy as np\n",
    "\n",
    "X = np.array([[-1.879, -2.188, 1.129], [-0.030, 1.287, 1.134], [-0.049, 0.299, 1.041], [0.625, 0.339, 2.734]])"
   ]
  },
  {
   "cell_type": "code",
   "execution_count": 40,
   "id": "4a8ac9e3",
   "metadata": {
    "id": "4a8ac9e3",
    "outputId": "eb59f6a2-62b7-4900-ece3-08255655334a"
   },
   "outputs": [
    {
     "data": {
      "text/plain": [
       "array([[-1.54575, -2.12225, -0.3805 ],\n",
       "       [ 0.30325,  1.35275, -0.3755 ],\n",
       "       [ 0.28425,  0.36475, -0.4685 ],\n",
       "       [ 0.95825,  0.40475,  1.2245 ]])"
      ]
     },
     "execution_count": 40,
     "metadata": {},
     "output_type": "execute_result"
    }
   ],
   "source": [
    "X_z = X - np.mean(X, axis = 0)\n",
    "X_z"
   ]
  },
  {
   "cell_type": "code",
   "execution_count": 41,
   "id": "192faa31",
   "metadata": {
    "id": "192faa31"
   },
   "outputs": [],
   "source": [
    "u, s, vt = la.svd(X_z)"
   ]
  },
  {
   "cell_type": "code",
   "execution_count": 42,
   "id": "b63a4e47",
   "metadata": {
    "id": "b63a4e47",
    "outputId": "b56a3576-e104-4a4a-9420-ea03f15fc9a8"
   },
   "outputs": [
    {
     "data": {
      "text/plain": [
       "array([3.12582776, 1.49271901, 0.34168884])"
      ]
     },
     "execution_count": 42,
     "metadata": {},
     "output_type": "execute_result"
    }
   ],
   "source": [
    "s"
   ]
  },
  {
   "cell_type": "markdown",
   "id": "fd084ecb",
   "metadata": {
    "id": "fd084ecb"
   },
   "source": [
    "## number of components pca"
   ]
  },
  {
   "cell_type": "code",
   "execution_count": 53,
   "id": "2bc8aeaa",
   "metadata": {
    "id": "2bc8aeaa"
   },
   "outputs": [],
   "source": [
    "import numpy as np\n",
    "\n",
    "U = np.array([[0.0, 0.0, -0.2, -0.3, 0.0, -0.3, -0.1, -0.1, -0.1], [-0.5, -0.4, 0.1, 0.0, -0.1, -0.3, 0.2, 0.1, 0.3], [0.3, 0.2, -0.3, -0.1, -0.2, 0.3, -0.1, -0.2, 0.5], [-0.1, -0.2, 0.1, 0.0, 0.0, 0.0, 0.2, -0.5, -0.2], [0.1, -0.1, 0.3, 0.0, -0.5, 0.1, 0.1, 0.2, 0.0], [-0.1, 0.5, 0.3, -0.5, -0.4, -0.1, -0.1, 0.1, -0.1], [0.2, -0.3, 0.3, -0.1, -0.2, -0.1, -0.5, -0.3, -0.3], [0.2, 0.2, -0.2, -0.2, 0.1, -0.2, 0.1, -0.2, 0.2], [-0.1, 0.0, -0.3, 0.3, -0.6, 0.2, 0.1, -0.1, -0.3], [-0.1, 0.5, 0.2, 0.2, 0.3, 0.1, 0.4, -0.2, -0.3], [0.2, -0.3, 0.2, 0.1, -0.1, -0.1, 0.1, -0.3, 0.3], [-0.3, 0.2, 0.1, 0.2, 0.1, 0.1, -0.4, 0.1, 0.3], [0.3, -0.1, 0.2, -0.4, 0.1, 0.3, 0.4, 0.2, 0.0], [-0.1, -0.1, 0.3, -0.1, -0.1, 0.2, 0.1, 0.1, -0.1], [-0.3, 0.2, 0.3, -0.1, -0.2, -0.1, 0.2, -0.4, 0.3], [0.4, 0.2, 0.1, 0.4, -0.1, -0.6, 0.1, 0.2, 0.1], [0.1, 0.0, 0.5, 0.3, 0.1, 0.3, -0.3, 0.0, 0.1]])\n",
    "S = np.array([[39,  0,  0,  0,  0,  0,  0,  0,  0], [ 0, 37,  0,  0,  0,  0,  0,  0,  0], [ 0,  0, 31,  0,  0,  0,  0,  0,  0], [ 0,  0,  0, 24,  0,  0,  0,  0,  0], [ 0,  0,  0,  0, 17,  0,  0,  0,  0], [ 0,  0,  0,  0,  0, 13,  0,  0,  0], [ 0,  0,  0,  0,  0,  0, 12,  0,  0], [ 0,  0,  0,  0,  0,  0,  0,  6,  0], [ 0,  0,  0,  0,  0,  0,  0,  0,  1]])\n",
    "V = np.array([[-0.2, 0.4, -0.1, -0.2, 0.8, -0.1, -0.1, -0.2, 0.0], [0.4, -0.2, -0.1, 0.1, 0.4, -0.4, 0.1, 0.5, -0.6], [-0.1, -0.5, -0.7, -0.4, 0.1, 0.1, -0.2, 0.0, 0.1], [0.0, 0.4, -0.3, -0.3, -0.4, -0.2, 0.4, -0.4, -0.4], [-0.7, 0.0, 0.0, 0.0, -0.1, -0.4, 0.3, 0.5, 0.2], [0.1, 0.0, -0.4, 0.7, 0.0, -0.5, -0.1, -0.3, 0.3], [-0.1, 0.3, 0.0, -0.1, -0.3, -0.3, -0.8, 0.2, -0.1], [0.0, -0.5, 0.5, -0.3, 0.0, -0.5, -0.1, -0.4, 0.0], [0.5, 0.3, -0.1, -0.4, 0.0, -0.2, 0.2, 0.2, 0.6]])"
   ]
  },
  {
   "cell_type": "code",
   "execution_count": 54,
   "id": "68faaeec",
   "metadata": {
    "id": "68faaeec",
    "outputId": "f31cf54d-4a31-495d-fce4-2c721c4c51a7"
   },
   "outputs": [
    {
     "data": {
      "text/plain": [
       "4"
      ]
     },
     "execution_count": 54,
     "metadata": {},
     "output_type": "execute_result"
    }
   ],
   "source": [
    "var = S.T@S\n",
    "per = 0.77\n",
    "thrs = np.sum(var) * per\n",
    "i = 1\n",
    "while i < var.shape[1]:\n",
    "    if np.sum(var[:, :i]) >= thrs:\n",
    "        break\n",
    "    i += 1\n",
    "i"
   ]
  },
  {
   "cell_type": "markdown",
   "id": "315de04f",
   "metadata": {},
   "source": [
    "# least square"
   ]
  },
  {
   "cell_type": "markdown",
   "id": "083782b2",
   "metadata": {},
   "source": [
    "## solve"
   ]
  },
  {
   "cell_type": "code",
   "execution_count": null,
   "id": "4deb23e0",
   "metadata": {},
   "outputs": [],
   "source": [
    "x = la.inv(A.T@A)@A.T@b"
   ]
  },
  {
   "cell_type": "markdown",
   "id": "c0b97a8f",
   "metadata": {},
   "source": [
    "## error"
   ]
  },
  {
   "cell_type": "code",
   "execution_count": null,
   "id": "57650eeb",
   "metadata": {},
   "outputs": [],
   "source": [
    "r = 2"
   ]
  },
  {
   "cell_type": "code",
   "execution_count": 18,
   "id": "7f59ef7c",
   "metadata": {},
   "outputs": [
    {
     "data": {
      "text/plain": [
       "12.649110640673518"
      ]
     },
     "execution_count": 18,
     "metadata": {},
     "output_type": "execute_result"
    }
   ],
   "source": [
    "la.norm(u.T[:, r:]@b[r:], r) # utb"
   ]
  },
  {
   "cell_type": "markdown",
   "id": "9dddc0c4",
   "metadata": {
    "id": "9dddc0c4"
   },
   "source": [
    "\n",
    "## rank from data pts "
   ]
  },
  {
   "cell_type": "code",
   "execution_count": null,
   "id": "9a29e327",
   "metadata": {
    "id": "9a29e327",
    "outputId": "be373510-6dcd-4d17-8386-1fe092c81e2b"
   },
   "outputs": [
    {
     "data": {
      "text/plain": [
       "5"
      ]
     },
     "execution_count": 32,
     "metadata": {},
     "output_type": "execute_result"
    }
   ],
   "source": [
    "data_pts = [6.0, 10.5, 5.0, 9.5, 5.0, 11.0, 10.5, 12.0, 12.0, 11.5]\n",
    "unq_pts = len(set(data_pts)) # number of unique data pts\n",
    "num_items = 7 # number of items\n",
    "min(num_items, unq_pts)"
   ]
  },
  {
   "cell_type": "markdown",
   "id": "c8f8a567",
   "metadata": {
    "id": "c8f8a567"
   },
   "source": [
    "## max coefficient "
   ]
  },
  {
   "cell_type": "code",
   "execution_count": 55,
   "id": "101373f7",
   "metadata": {
    "id": "101373f7",
    "outputId": "16d6d7ee-b91f-4172-8a2f-a072032be638"
   },
   "outputs": [
    {
     "data": {
      "text/plain": [
       "4"
      ]
     },
     "execution_count": 55,
     "metadata": {},
     "output_type": "execute_result"
    }
   ],
   "source": [
    "data_pts = [6.5, 8.0, 11.5, 9.0, 6.5]\n",
    "unq_pts = len(set(data_pts))\n",
    "unq_pts"
   ]
  },
  {
   "cell_type": "code",
   "execution_count": null,
   "id": "5cb62336",
   "metadata": {
    "id": "5cb62336",
    "outputId": "efcc71e2-33e4-4fee-8bfd-9c50b14943bd"
   },
   "outputs": [
    {
     "data": {
      "text/plain": [
       "86"
      ]
     },
     "execution_count": 13,
     "metadata": {},
     "output_type": "execute_result"
    }
   ],
   "source": [
    "x = 2\n",
    "15*x**2+12*x+2"
   ]
  },
  {
   "cell_type": "code",
   "execution_count": 24,
   "id": "87f73d79",
   "metadata": {
    "id": "87f73d79",
    "outputId": "a7211325-c824-4a52-8f06-b7d0490d9f78"
   },
   "outputs": [
    {
     "data": {
      "text/plain": [
       "8"
      ]
     },
     "execution_count": 24,
     "metadata": {},
     "output_type": "execute_result"
    }
   ],
   "source": [
    "e = 0.2435\n",
    "i = 0\n",
    "while e >= 1e-3:\n",
    "    e /= 2\n",
    "    i += 1\n",
    "i"
   ]
  },
  {
   "cell_type": "code",
   "execution_count": 62,
   "id": "4d5d2f3b",
   "metadata": {
    "id": "4d5d2f3b"
   },
   "outputs": [
    {
     "data": {
      "text/plain": [
       "151"
      ]
     },
     "execution_count": 62,
     "metadata": {},
     "output_type": "execute_result"
    }
   ],
   "source": [
    "def f(x):\n",
    "    return 12*x**2+12*x+7\n",
    "f(3)"
   ]
  },
  {
   "cell_type": "code",
   "execution_count": 38,
   "id": "95b5387c",
   "metadata": {},
   "outputs": [
    {
     "name": "stderr",
     "output_type": "stream",
     "text": [
      "<ipython-input-38-f754275d76ed>:1: RuntimeWarning: divide by zero encountered in true_divide\n",
      "  1./np.array([0, 1, 2])\n"
     ]
    },
    {
     "data": {
      "text/plain": [
       "array([inf, 1. , 0.5])"
      ]
     },
     "execution_count": 38,
     "metadata": {},
     "output_type": "execute_result"
    }
   ],
   "source": [
    "1./np.array([0, 1, 2])"
   ]
  },
  {
   "cell_type": "code",
   "execution_count": null,
   "id": "f8a2019c",
   "metadata": {},
   "outputs": [],
   "source": []
  }
 ],
 "metadata": {
  "colab": {
   "name": "final.ipynb",
   "provenance": []
  },
  "kernelspec": {
   "display_name": "Python 3",
   "language": "python",
   "name": "python3"
  },
  "language_info": {
   "codemirror_mode": {
    "name": "ipython",
    "version": 3
   },
   "file_extension": ".py",
   "mimetype": "text/x-python",
   "name": "python",
   "nbconvert_exporter": "python",
   "pygments_lexer": "ipython3",
   "version": "3.9.5"
  }
 },
 "nbformat": 4,
 "nbformat_minor": 5
}
